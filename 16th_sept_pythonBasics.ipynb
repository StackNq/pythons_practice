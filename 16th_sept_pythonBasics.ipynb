{
 "cells": [
  {
   "cell_type": "code",
   "execution_count": 2,
   "id": "0ef369c3",
   "metadata": {},
   "outputs": [
    {
     "name": "stdout",
     "output_type": "stream",
     "text": [
      "Before swap a= 100  b= 999\n",
      "After swap a= 999  b= 100\n"
     ]
    }
   ],
   "source": [
    "a,b=100,999\n",
    "print(\"Before swap a=\",a,\" b=\",b)\n",
    "a,b=b,a#values swaped\n",
    "print(\"After swap a=\",a,\" b=\",b)"
   ]
  },
  {
   "cell_type": "code",
   "execution_count": 5,
   "id": "2e86954c",
   "metadata": {},
   "outputs": [
    {
     "name": "stdout",
     "output_type": "stream",
     "text": [
      "Enter the length of the rectangle: 4\n",
      "Enter the width of the rectangle: 2\n",
      "The area of the rectangle of length 4.0 and width 2.0 = 8.0 square units.\n"
     ]
    }
   ],
   "source": [
    "length = float(input(\"Enter the length of the rectangle: \"))\n",
    "width = float(input(\"Enter the width of the rectangle: \"))\n",
    "area=length*width#calculating area\n",
    "print(f\"The area of the rectangle of length {length} and width {width} = {area} square units.\")"
   ]
  },
  {
   "cell_type": "code",
   "execution_count": 9,
   "id": "b0beb7dd",
   "metadata": {},
   "outputs": [
    {
     "name": "stdout",
     "output_type": "stream",
     "text": [
      "Enter the temperature in celsius: 23\n",
      "Converted\n",
      " 23.0°C = 73.4°F \n"
     ]
    }
   ],
   "source": [
    "c = float(input(\"Enter the temperature in celsius: \"))\n",
    "f = (1.8*c)+32\n",
    "print(f\"Converted\\n {c}°C = {f}°F \")"
   ]
  },
  {
   "cell_type": "code",
   "execution_count": 14,
   "id": "a4599dda",
   "metadata": {},
   "outputs": [
    {
     "name": "stdout",
     "output_type": "stream",
     "text": [
      "Enter your string : hello\n",
      "The length of the string is :  5\n"
     ]
    }
   ],
   "source": [
    "strg=input(\"Enter your string : \")\n",
    "leng=0\n",
    "for i in strg:\n",
    "    leng+=1\n",
    "print(\"The length of the string is : \",leng)"
   ]
  },
  {
   "cell_type": "code",
   "execution_count": 15,
   "id": "5ee17bfd",
   "metadata": {},
   "outputs": [
    {
     "name": "stdout",
     "output_type": "stream",
     "text": [
      "Enter your string : I am Ayan\n",
      "The number of vowels present in the input string is :  4\n"
     ]
    }
   ],
   "source": [
    "strg=input(\"Enter your string : \")\n",
    "leng=0\n",
    "for i in strg:\n",
    "    if i in \"aeiouAEIOU\":\n",
    "        leng+=1\n",
    "print(\"The number of vowels present in the input string is : \",leng)\n"
   ]
  },
  {
   "cell_type": "code",
   "execution_count": 18,
   "id": "c01f16cc",
   "metadata": {},
   "outputs": [
    {
     "name": "stdout",
     "output_type": "stream",
     "text": [
      "Enter your string : radar\n",
      "The input string is palindrom\n"
     ]
    }
   ],
   "source": [
    "strg=input(\"Enter your string : \")\n",
    "str1=strg[-1::-1]\n",
    "if strg==str1:\n",
    "    print(\"The input string is palindrom\")\n",
    "else:\n",
    "    print(\"The input string is not palindrom\")"
   ]
  },
  {
   "cell_type": "code",
   "execution_count": 20,
   "id": "b1155673",
   "metadata": {},
   "outputs": [
    {
     "name": "stdout",
     "output_type": "stream",
     "text": [
      "Enter your string : Hello world !\n",
      "String without spaces :  Helloworld!\n"
     ]
    }
   ],
   "source": [
    "strg=input(\"Enter your string : \")\n",
    "str1=\"\"\n",
    "for i in strg:\n",
    "    if i!=\" \":\n",
    "        str1 +=i\n",
    "print(\"String without spaces : \",str1)"
   ]
  },
  {
   "cell_type": "code",
   "execution_count": 24,
   "id": "53991a56",
   "metadata": {},
   "outputs": [
    {
     "name": "stdout",
     "output_type": "stream",
     "text": [
      "Enter your string : hello\n",
      "Reversed string :  olleh\n"
     ]
    }
   ],
   "source": [
    "strg=input(\"Enter your string : \")\n",
    "str1=strg[-1::-1]\n",
    "print(\"Reversed string : \",str1)\n",
    "    "
   ]
  }
 ],
 "metadata": {
  "kernelspec": {
   "display_name": "Python 3 (ipykernel)",
   "language": "python",
   "name": "python3"
  },
  "language_info": {
   "codemirror_mode": {
    "name": "ipython",
    "version": 3
   },
   "file_extension": ".py",
   "mimetype": "text/x-python",
   "name": "python",
   "nbconvert_exporter": "python",
   "pygments_lexer": "ipython3",
   "version": "3.11.4"
  }
 },
 "nbformat": 4,
 "nbformat_minor": 5
}
