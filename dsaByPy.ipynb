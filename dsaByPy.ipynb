{
 "cells": [
  {
   "cell_type": "code",
   "execution_count": null,
   "id": "2f179d3f",
   "metadata": {},
   "outputs": [],
   "source": [
    "#binary search O(log n)"
   ]
  },
  {
   "cell_type": "code",
   "execution_count": 3,
   "id": "4e5e5fdd",
   "metadata": {},
   "outputs": [
    {
     "name": "stdout",
     "output_type": "stream",
     "text": [
      "Enter list : 1 2 3 4 4 5 6 8 9\n",
      "Enter element for search : 3\n",
      "element found at index :  2\n"
     ]
    }
   ],
   "source": [
    "\n",
    "a=input(\"Enter list : \")\n",
    "a=a.split()\n",
    "ar=[int(i) for i in a]\n",
    "n=len(ar)\n",
    "l=0\n",
    "h=n-1\n",
    "f=0\n",
    "s=int(input(\"Enter element for search : \"))\n",
    "while l<=h:\n",
    "    m=(l+h)//2\n",
    "    if ar[m]==s:\n",
    "        f=0\n",
    "        print(\"element found at index : \",m)\n",
    "        break\n",
    "    elif s>ar[m]:\n",
    "        l=m+1\n",
    "        f=1\n",
    "    else:\n",
    "        f=1\n",
    "        h=m-1\n",
    "if f==1:\n",
    "    print(\"not found\")"
   ]
  },
  {
   "cell_type": "code",
   "execution_count": null,
   "id": "afa17466",
   "metadata": {},
   "outputs": [],
   "source": [
    "#Selection Sort O(n^2)"
   ]
  },
  {
   "cell_type": "code",
   "execution_count": 5,
   "id": "895e4297",
   "metadata": {},
   "outputs": [
    {
     "name": "stdout",
     "output_type": "stream",
     "text": [
      "Enter list : 4 5 6 8 9 1 2 3 4 \n",
      "[1, 2, 3, 4, 4, 5, 6, 8, 9]\n"
     ]
    }
   ],
   "source": [
    "a=input(\"Enter list : \")\n",
    "a=a.split()\n",
    "ar=[int(i) for i in a]\n",
    "n=len(ar)\n",
    "for i in range(n):\n",
    "    m=i\n",
    "    for j in range(i+1,n):\n",
    "        if ar[m]>ar[j]:\n",
    "            m=j\n",
    "    ar[i],ar[m]=ar[m],ar[i]\n",
    "print(ar)"
   ]
  },
  {
   "cell_type": "code",
   "execution_count": null,
   "id": "8436ed23",
   "metadata": {},
   "outputs": [],
   "source": [
    "#Bubble sort O(n) O(n^2)"
   ]
  },
  {
   "cell_type": "code",
   "execution_count": 9,
   "id": "fd514816",
   "metadata": {},
   "outputs": [
    {
     "name": "stdout",
     "output_type": "stream",
     "text": [
      "Enter list : 4 5 6 8 9 1 2 3 4\n",
      "[1, 2, 3, 4, 4, 5, 6, 8, 9]\n"
     ]
    }
   ],
   "source": [
    "a=input(\"Enter list : \")\n",
    "a=a.split()\n",
    "ar=[int(i) for i in a]\n",
    "n=len(ar)\n",
    "for i in range(n):\n",
    "    f=0\n",
    "    for j in range (0,n-i-1):\n",
    "        if ar[j]>ar[j+1]:\n",
    "            ar[j],ar[j+1]=ar[j+1],ar[j]\n",
    "            f=1\n",
    "    if f==0:\n",
    "        break\n",
    "print(ar)"
   ]
  },
  {
   "cell_type": "code",
   "execution_count": null,
   "id": "67695df6",
   "metadata": {},
   "outputs": [],
   "source": [
    "#Insertion Sort O(n) O(n^2)"
   ]
  },
  {
   "cell_type": "code",
   "execution_count": 13,
   "id": "5f1aa3a1",
   "metadata": {},
   "outputs": [
    {
     "name": "stdout",
     "output_type": "stream",
     "text": [
      "Enter list : 4 5 6 8 9 1 2 3 4\n",
      "[1, 2, 3, 4, 4, 5, 6, 8, 9]\n"
     ]
    }
   ],
   "source": [
    "a=input(\"Enter list : \")\n",
    "a=a.split()\n",
    "ar=[int(i) for i in a]\n",
    "n=len(ar)\n",
    "for i in range(1,n):\n",
    "    x=ar[i]\n",
    "    j=i-1\n",
    "    while j>=0 and ar[j]>x:\n",
    "        ar[j+1]=ar[j]\n",
    "        j-=1\n",
    "    ar[j+1]=x\n",
    "print(ar)"
   ]
  },
  {
   "cell_type": "code",
   "execution_count": null,
   "id": "38bd0d16",
   "metadata": {},
   "outputs": [],
   "source": [
    "#Quick Sort O(n log n) O(n^2)"
   ]
  },
  {
   "cell_type": "code",
   "execution_count": 8,
   "id": "cbb0ff81",
   "metadata": {},
   "outputs": [
    {
     "name": "stdout",
     "output_type": "stream",
     "text": [
      "Enter list : 4 5 6 8 9 1 2 3 4\n",
      "[1, 2, 3, 4, 4, 5, 6, 8, 9]\n"
     ]
    }
   ],
   "source": [
    "def quick(ar):\n",
    "    n=len(ar)\n",
    "    if len(ar)<=1:\n",
    "        return ar\n",
    "    piv=ar[0]\n",
    "    left=[i for i in ar[1:] if i<=piv]\n",
    "    right=[i for i in ar[1:] if i>piv]\n",
    "    return quick(left)+[piv]+quick(right)\n",
    "\n",
    "a=input(\"Enter list : \")\n",
    "a=a.split()\n",
    "ar=[int(i) for i in a]\n",
    "\n",
    "print(quick(ar))"
   ]
  },
  {
   "cell_type": "code",
   "execution_count": null,
   "id": "02b56f23",
   "metadata": {},
   "outputs": [],
   "source": [
    "#merge sort o(n log n)"
   ]
  },
  {
   "cell_type": "code",
   "execution_count": 12,
   "id": "e234ece8",
   "metadata": {},
   "outputs": [
    {
     "name": "stdout",
     "output_type": "stream",
     "text": [
      "Enter list : 4 5 6 8 9 1 2 3 4\n",
      "[1, 2, 3, 4, 4, 5, 6, 8, 9]\n"
     ]
    }
   ],
   "source": [
    "def merg(ar):\n",
    "    if len(ar)<=1:\n",
    "        return\n",
    "    \n",
    "    m=len(ar)//2\n",
    "    l=ar[:m]\n",
    "    r=ar[m:]\n",
    "    merg(l)\n",
    "    merg(r)\n",
    "    \n",
    "    i=j=k=0\n",
    "    while i<len(l) and j<len(r):\n",
    "        if l[i]<=r[j]:\n",
    "            ar[k]=l[i]\n",
    "            i+=1\n",
    "        else:\n",
    "            ar[k]=r[j]\n",
    "            j+=1\n",
    "        k+=1\n",
    "    while i<len(l):\n",
    "        ar[k]=l[i]\n",
    "        i+=1\n",
    "        k+=1\n",
    "    while j<len(r):\n",
    "        ar[k]=r[j]\n",
    "        j+=1\n",
    "        k+=1\n",
    "\n",
    "a=input(\"Enter list : \")\n",
    "a=a.split()\n",
    "ar=[int(i) for i in a]\n",
    "merg(ar)\n",
    "print(ar)"
   ]
  },
  {
   "cell_type": "code",
   "execution_count": null,
   "id": "bc815cab",
   "metadata": {},
   "outputs": [],
   "source": [
    "#queue"
   ]
  },
  {
   "cell_type": "code",
   "execution_count": 23,
   "id": "914333f3",
   "metadata": {},
   "outputs": [
    {
     "name": "stdout",
     "output_type": "stream",
     "text": [
      "[1, 2, 3]\n",
      "1\n",
      "2\n",
      "3\n",
      "Queque is empty\n",
      "Q is empty\n"
     ]
    }
   ],
   "source": [
    "class Q:\n",
    "    def __init__(self):\n",
    "        self.q=[]\n",
    "    def enQ(self,x):\n",
    "        self.q.append(x)\n",
    "        \n",
    "    def deQ(self):\n",
    "        if self.empty():\n",
    "            print(\"Queque is empty\")\n",
    "        else:\n",
    "            print(self.q.pop(0))\n",
    "            \n",
    "    def peek(self):\n",
    "        if not self.empty():\n",
    "            print(\"Front : \",q[0])\n",
    "        else:\n",
    "            print('Queue is empty')\n",
    "            \n",
    "    def empty(self):\n",
    "        return len(self.q)==0\n",
    "    \n",
    "    def show(self):\n",
    "        if self.empty():\n",
    "            print(\"Q is empty\")\n",
    "        else:\n",
    "            print(self.q)\n",
    "qq=Q()\n",
    "qq.enQ(1)\n",
    "qq.enQ(2)\n",
    "qq.enQ(3)\n",
    "qq.show()\n",
    "qq.deQ()\n",
    "qq.deQ()\n",
    "qq.deQ()\n",
    "qq.deQ()\n",
    "qq.show()"
   ]
  },
  {
   "cell_type": "code",
   "execution_count": null,
   "id": "6d6b3aa9",
   "metadata": {},
   "outputs": [],
   "source": [
    "#circular queue"
   ]
  },
  {
   "cell_type": "code",
   "execution_count": 41,
   "id": "b259ff40",
   "metadata": {},
   "outputs": [
    {
     "name": "stdout",
     "output_type": "stream",
     "text": [
      "1 2 3 \n",
      "deQd :  1\n",
      "peeked :  2\n",
      "deQd :  2\n",
      "3 2 \n",
      "deQd :  3\n",
      "deQd :  2\n",
      "Empty Q\n",
      "Q is empty\n",
      "Q is empty\n",
      "Empty Q\n"
     ]
    }
   ],
   "source": [
    "class cq:\n",
    "    def __init__(self,n):\n",
    "        self.n=n\n",
    "        self.q=[None]*n\n",
    "        self.front=-1\n",
    "        self.rear=-1\n",
    "        \n",
    "    def enQ(self,x):\n",
    "        if (self.rear+1)%self.n==self.front:\n",
    "            print('Full')\n",
    "        elif self.front==-1:\n",
    "            self.front=self.rear=0\n",
    "            self.q[self.rear]=x\n",
    "        else:\n",
    "            self.rear=(self.rear+1)%self.n\n",
    "            self.q[self.rear]=x\n",
    "            \n",
    "    def deQ(self):\n",
    "        if self.front==-1:\n",
    "            print('Q is empty')\n",
    "        elif self.front==self.rear:\n",
    "            x=self.q[self.front]\n",
    "            self.q[self.front] = None\n",
    "            self.front=self.rear=-1\n",
    "            print('deQd : ',x)\n",
    "        else:\n",
    "            x=self.q[self.front]\n",
    "            self.q[self.front] = None\n",
    "            self.front=(self.front+1)%self.n\n",
    "            print('deQd : ',x)\n",
    "            \n",
    "    def peek(self):\n",
    "        if self.front==-1:\n",
    "            print('Empty Q')\n",
    "        else:\n",
    "            print('peeked : ',self.q[self.front])\n",
    "    \n",
    "    def show(self):\n",
    "        if self.front==-1:\n",
    "            print('Empty Q')\n",
    "            return\n",
    "        i=self.front\n",
    "        while True:\n",
    "            print(self.q[i], end=\" \")\n",
    "            if i==self.rear:\n",
    "                break\n",
    "            i=(i+1)%self.n\n",
    "        print()\n",
    "\n",
    "qq=cq(3)\n",
    "qq.enQ(1)\n",
    "qq.enQ(2)\n",
    "qq.enQ(3)\n",
    "qq.show()\n",
    "qq.deQ()\n",
    "qq.peek()\n",
    "qq.deQ()\n",
    "qq.enQ(2)\n",
    "qq.show()\n",
    "qq.deQ()\n",
    "qq.deQ()\n",
    "qq.show()\n",
    "qq.deQ()\n",
    "qq.deQ()\n",
    "qq.show()"
   ]
  },
  {
   "cell_type": "code",
   "execution_count": null,
   "id": "76899b7c",
   "metadata": {},
   "outputs": [],
   "source": [
    "#Single LL"
   ]
  },
  {
   "cell_type": "code",
   "execution_count": 47,
   "id": "eefe833a",
   "metadata": {},
   "outputs": [
    {
     "name": "stdout",
     "output_type": "stream",
     "text": [
      "Head->3->2->1->None\n",
      "Head->3->2->1->4->None\n",
      "deleted 3\n",
      "deleted  4\n",
      "Head->2->1->None\n",
      "deleted  2\n",
      "Head->1->None\n",
      "not found\n"
     ]
    }
   ],
   "source": [
    "class node:\n",
    "    def __init__(self,x):\n",
    "        self.data=x\n",
    "        self.next=None\n",
    "class LL:\n",
    "    def __init__(self):\n",
    "        self.head=None\n",
    "        \n",
    "    def inFirst(self,x):\n",
    "        nw=node(x)\n",
    "        nw.next=self.head\n",
    "        self.head=nw\n",
    "        \n",
    "    def inLast(self,x):\n",
    "        nw=node(x)\n",
    "        if self.head is None:\n",
    "            self.head=nw\n",
    "        else:\n",
    "            tem=self.head\n",
    "            while tem.next:\n",
    "                tem=tem.next\n",
    "            tem.next=nw\n",
    "            \n",
    "    def delFirst(self):\n",
    "        if self.head is None:\n",
    "            print('List empty')\n",
    "        else:\n",
    "            print('deleted',self.head.data)\n",
    "            self.head=self.head.next\n",
    "    \n",
    "    def delLast(self):\n",
    "        if self.head is None:\n",
    "            print('List empty')\n",
    "        elif self.head.next is None:\n",
    "            print('deleted',self.head.data)\n",
    "            self.head=None\n",
    "        else:\n",
    "            tem=self.head\n",
    "            t1=None\n",
    "            while tem.next:\n",
    "                t1=tem\n",
    "                tem=tem.next\n",
    "            print('deleted ',tem.data)\n",
    "            t1.next=None\n",
    "            \n",
    "    def delData(self,x):\n",
    "        if self.head is None:\n",
    "            print('List empty')\n",
    "            return\n",
    "        tem=self.head\n",
    "        if tem.data==x:\n",
    "            print('deleted ',tem.data)\n",
    "            self.head=tem.next\n",
    "        else:\n",
    "            t1=None\n",
    "            while tem and tem.data!=x:\n",
    "                t1=tem\n",
    "                tem=tem.next\n",
    "            if tem is None:\n",
    "                print('not found')\n",
    "                return\n",
    "            print('deleted ',tem.data)\n",
    "            t1.next=tem.next\n",
    "            \n",
    "    def display(self):\n",
    "        if self.head is None:\n",
    "            print('List empty')\n",
    "            return\n",
    "        tem=self.head\n",
    "        print('Head',end=\"->\")\n",
    "        while tem:\n",
    "            print(tem.data,end=\"->\")\n",
    "            tem=tem.next\n",
    "        print('None')\n",
    "        \n",
    "if __name__==\"__main__\":\n",
    "    ll=LL()\n",
    "    ll.inFirst(1)\n",
    "    ll.inFirst(2)\n",
    "    ll.inFirst(3)\n",
    "    ll.display()\n",
    "    ll.inLast(4)\n",
    "    ll.display()\n",
    "    ll.delFirst()\n",
    "    ll.delLast()\n",
    "    ll.display()\n",
    "    ll.delData(2)\n",
    "    ll.display()\n",
    "    ll.delData(10) "
   ]
  },
  {
   "cell_type": "code",
   "execution_count": null,
   "id": "7d38f5b4",
   "metadata": {},
   "outputs": [],
   "source": [
    "#postfix Eval"
   ]
  },
  {
   "cell_type": "code",
   "execution_count": 50,
   "id": "fddba904",
   "metadata": {},
   "outputs": [
    {
     "name": "stdout",
     "output_type": "stream",
     "text": [
      "Enter expression : 5 6 2 + * 12 4 / -\n",
      "37.0\n"
     ]
    }
   ],
   "source": [
    "def evall(exp):\n",
    "    stack=[]\n",
    "    for i in exp:\n",
    "        if i.isdigit():\n",
    "            stack.append(int(i))\n",
    "        else:\n",
    "            b=stack.pop()\n",
    "            a=stack.pop()\n",
    "            if i=='+':\n",
    "                stack.append(a+b)\n",
    "            elif i=='-':\n",
    "                stack.append(a-b)\n",
    "            elif i=='*':\n",
    "                stack.append(a*b)\n",
    "            elif i=='/':\n",
    "                stack.append(a/b)\n",
    "            elif i=='^':\n",
    "                stack.append(a**b)\n",
    "    return stack[0]\n",
    "exp=input('Enter expression : ').split()\n",
    "print(evall(exp))"
   ]
  },
  {
   "cell_type": "code",
   "execution_count": null,
   "id": "3c84f0a7",
   "metadata": {},
   "outputs": [],
   "source": []
  }
 ],
 "metadata": {
  "kernelspec": {
   "display_name": "Python 3 (ipykernel)",
   "language": "python",
   "name": "python3"
  },
  "language_info": {
   "codemirror_mode": {
    "name": "ipython",
    "version": 3
   },
   "file_extension": ".py",
   "mimetype": "text/x-python",
   "name": "python",
   "nbconvert_exporter": "python",
   "pygments_lexer": "ipython3",
   "version": "3.11.4"
  }
 },
 "nbformat": 4,
 "nbformat_minor": 5
}
