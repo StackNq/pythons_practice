{
 "cells": [
  {
   "cell_type": "code",
   "execution_count": 4,
   "id": "a7e56dd3",
   "metadata": {},
   "outputs": [
    {
     "name": "stdout",
     "output_type": "stream",
     "text": [
      "Enter a number : -9999\n",
      "-9999  is negative\n"
     ]
    }
   ],
   "source": [
    "a=int(input('Enter a number : '))\n",
    "if a>0:\n",
    "    print(a,' is posetive')\n",
    "elif a<0:\n",
    "    print(a,' is negative')"
   ]
  },
  {
   "cell_type": "code",
   "execution_count": 9,
   "id": "fdb7912f",
   "metadata": {},
   "outputs": [
    {
     "name": "stdout",
     "output_type": "stream",
     "text": [
      "Enter your age : 12\n",
      "You are ineligible for voting.\n"
     ]
    }
   ],
   "source": [
    "a=int(input('Enter your age : '))\n",
    "if a>0:\n",
    "    if a>=18:\n",
    "        print('You are eligible for voting.')\n",
    "    elif a<18:\n",
    "        print('You are ineligible for voting.')\n",
    "else:\n",
    "    print('Invalid input!')"
   ]
  },
  {
   "cell_type": "code",
   "execution_count": 13,
   "id": "94e06cba",
   "metadata": {},
   "outputs": [
    {
     "name": "stdout",
     "output_type": "stream",
     "text": [
      "Enter 1st number : 23\n",
      "Enter 2nd number : 32\n",
      "32  is greater than 23\n"
     ]
    }
   ],
   "source": [
    "a=int(input('Enter 1st number : '))\n",
    "b=int(input('Enter 2nd number : '))\n",
    "if a>b:\n",
    "    print(a,' is greater than ',b)\n",
    "elif b>a:\n",
    "    print(b,' is greater than',a)\n",
    "else:\n",
    "    print('Both numbers are equal')"
   ]
  },
  {
   "cell_type": "code",
   "execution_count": 21,
   "id": "656ab694",
   "metadata": {},
   "outputs": [
    {
     "name": "stdout",
     "output_type": "stream",
     "text": [
      "Enter the year : 2024\n",
      "2024 is a leap year\n"
     ]
    }
   ],
   "source": [
    "a=int(input('Enter the year : '))\n",
    "if a%4==0 and a%400==0 or a%100!=0:\n",
    "    print(a,'is a leap year')\n",
    "else:\n",
    "    print(a,'is not a leap year')"
   ]
  },
  {
   "cell_type": "code",
   "execution_count": 20,
   "id": "986b491b",
   "metadata": {},
   "outputs": [
    {
     "name": "stdout",
     "output_type": "stream",
     "text": [
      "Enter a character : C\n",
      "C  is a consonant\n"
     ]
    }
   ],
   "source": [
    "strg=input(\"Enter a character : \")\n",
    "if strg in \"aeiouAEIOU\":\n",
    "    print(strg,' is a vowel')\n",
    "else:\n",
    "    print(strg,' is a consonant')\n"
   ]
  },
  {
   "cell_type": "code",
   "execution_count": 17,
   "id": "b2027f93",
   "metadata": {},
   "outputs": [
    {
     "name": "stdout",
     "output_type": "stream",
     "text": [
      "Enter a number : 9562317\n",
      "9562317  is odd number\n"
     ]
    }
   ],
   "source": [
    "a=int(input('Enter a number : '))\n",
    "if a!=0:\n",
    "    if a%2==0:\n",
    "        print(a,' is even number')\n",
    "    else:\n",
    "        print(a,' is odd number')\n",
    "else:\n",
    "    print(a,'is neither even nor odd')"
   ]
  },
  {
   "cell_type": "code",
   "execution_count": 34,
   "id": "52cd1980",
   "metadata": {},
   "outputs": [
    {
     "name": "stdout",
     "output_type": "stream",
     "text": [
      "Enter a number : -123.958\n",
      "Absolute(-123.958) = 123.958\n"
     ]
    }
   ],
   "source": [
    "a=float(input('Enter a number : '))\n",
    "b=a\n",
    "if a<0:\n",
    "    a=0+(-b)\n",
    "print(f'Absolute({b}) = {a}')"
   ]
  },
  {
   "cell_type": "code",
   "execution_count": 50,
   "id": "0706b45e",
   "metadata": {},
   "outputs": [
    {
     "name": "stdout",
     "output_type": "stream",
     "text": [
      "Enter 1st number : 1\n",
      "Enter 2nd number : 3\n",
      "Enter 3rd number : 2\n",
      "3  is the largest among the three numbers\n"
     ]
    }
   ],
   "source": [
    "a=int(input('Enter 1st number : '))\n",
    "b=int(input('Enter 2nd number : '))\n",
    "c=int(input('Enter 3rd number : '))\n",
    "if a>b and a>c:\n",
    "    n=a\n",
    "elif b>a and b>c:\n",
    "    n=b\n",
    "else:\n",
    "    n=c\n",
    "print(n,' is the largest among the three numbers')"
   ]
  },
  {
   "cell_type": "code",
   "execution_count": 42,
   "id": "c0c3d322",
   "metadata": {},
   "outputs": [
    {
     "name": "stdout",
     "output_type": "stream",
     "text": [
      "Enter your string : SOS\n",
      "The input string is palindrom\n"
     ]
    }
   ],
   "source": [
    "strg=input(\"Enter your string : \")\n",
    "str1=strg[-1::-1]\n",
    "if strg==str1:\n",
    "    print(\"The input string is palindrom\")\n",
    "else:\n",
    "    print(\"The input string is not palindrom\")"
   ]
  },
  {
   "cell_type": "code",
   "execution_count": 15,
   "id": "f7960a53",
   "metadata": {},
   "outputs": [
    {
     "name": "stdout",
     "output_type": "stream",
     "text": [
      "Enter your marks : 90\n",
      "Your grade is ->  A+\n"
     ]
    }
   ],
   "source": [
    "a=int(input('Enter your marks : '))\n",
    "n='\\0'\n",
    "if a>=90 and a<=100:\n",
    "    n='A+'\n",
    "elif a>=80 and a<90:\n",
    "    n='A'\n",
    "elif a>=70 and a<80:\n",
    "    n='B'\n",
    "elif a>=60 and a<70:\n",
    "    n='C'\n",
    "elif a>=31 and a<60:\n",
    "    n='D'\n",
    "elif a<=30 and a>0:\n",
    "    n='F'\n",
    "else:\n",
    "    print('Invalid input! \\nmarks cannot be greater than 100 or less than 0')\n",
    "if n!='\\0':\n",
    "    print('Your grade is -> ',n)"
   ]
  },
  {
   "cell_type": "code",
   "execution_count": 54,
   "id": "10a61f28",
   "metadata": {},
   "outputs": [
    {
     "name": "stdout",
     "output_type": "stream",
     "text": [
      "Enter 1st number : 1\n",
      "Enter 2nd number : 3\n",
      "Enter 3rd number : 2\n",
      "3  is the largest among the three numbers\n"
     ]
    }
   ],
   "source": [
    "a=int(input('Enter 1st number : '))\n",
    "b=int(input('Enter 2nd number : '))\n",
    "c=int(input('Enter 3rd number : '))\n",
    "if a<b and a<c:\n",
    "    if b>c:\n",
    "        n=b\n",
    "    else:\n",
    "        n=c\n",
    "else:\n",
    "    n=a\n",
    "print(n,' is the largest among the three numbers')"
   ]
  },
  {
   "cell_type": "code",
   "execution_count": 16,
   "id": "b8ba756b",
   "metadata": {},
   "outputs": [
    {
     "name": "stdout",
     "output_type": "stream",
     "text": [
      "Enter \n",
      "1: for checking with angle\n",
      "2: for checking with sides\n",
      "2\n",
      "Enter the legth of first side : 10\n",
      "Enter the legth of second side : 20\n",
      "Enter the legth of third side : 20\n",
      "Isosceles triangle\n"
     ]
    }
   ],
   "source": [
    "ch=int(input('Enter \\n1: for checking with angle\\n2: for checking with sides\\n'))\n",
    "if ch==1:\n",
    "    a=int(input('Enter the first angle : '))\n",
    "    b=int(input('Enter the second angle : '))\n",
    "    c=int(input('Enter the third angle : '))\n",
    "    if a+b+c==180:\n",
    "        if a==60 and b==60 and c==60:\n",
    "            print('Equilateral triangle')\n",
    "        elif a==b or b==c or c==a:\n",
    "            print('Isosceles triangle')\n",
    "        else:\n",
    "            print('Scalene triangle')\n",
    "    else:\n",
    "        print('Inavlid input !')\n",
    "elif ch==2:\n",
    "    a=int(input('Enter the legth of first side : '))\n",
    "    b=int(input('Enter the legth of second side : '))\n",
    "    c=int(input('Enter the legth of third side : '))\n",
    "    if a==b and b==c:\n",
    "        print('Equilateral triangle')\n",
    "    elif a==b or b==c or c==a:\n",
    "        print('Isosceles triangle')\n",
    "    else:\n",
    "        print('Scalene triangle')\n",
    "else:\n",
    "    print('Invalid input!')"
   ]
  },
  {
   "cell_type": "code",
   "execution_count": 19,
   "id": "ef30cd52",
   "metadata": {},
   "outputs": [
    {
     "name": "stdout",
     "output_type": "stream",
     "text": [
      "Enter the year : 2000\n",
      "2000  is a leap year and a century year\n"
     ]
    }
   ],
   "source": [
    "a=int(input('Enter the year : '))\n",
    "f=0\n",
    "f1=0\n",
    "if a%4==0 and a%400==0 or a%100!=0:\n",
    "    f=1\n",
    "if a%100==0:\n",
    "    f1=1\n",
    "if f==1 and f1==1:\n",
    "    print(a,' is a leap year and a century year')\n",
    "elif f==1 and f1==0:\n",
    "    print(a,' is a leap year but not a century year')\n",
    "elif f==0 and f1==1:\n",
    "    print(a,' is a century year but not a leap year')\n",
    "else:\n",
    "    print(a,' is neither a leap year nor a century year')"
   ]
  },
  {
   "cell_type": "code",
   "execution_count": 23,
   "id": "ab59f510",
   "metadata": {},
   "outputs": [
    {
     "name": "stdout",
     "output_type": "stream",
     "text": [
      "Enter a number : 0\n",
      "0  is zero\n"
     ]
    }
   ],
   "source": [
    "a=int(input('Enter a number : '))\n",
    "if a!=0:\n",
    "    if a>0:\n",
    "        print(a,' is posetive')\n",
    "    elif a<0:\n",
    "        print(a,' is negative')\n",
    "else:\n",
    "    print(a,' is zero')"
   ]
  },
  {
   "cell_type": "code",
   "execution_count": 28,
   "id": "65026ecd",
   "metadata": {},
   "outputs": [
    {
     "name": "stdout",
     "output_type": "stream",
     "text": [
      "Enter your age : 21\n",
      "You are not a teenager anymore\n"
     ]
    }
   ],
   "source": [
    "a=int(input('Enter your age : '))\n",
    "if a>0:\n",
    "    if a>=13 and a<=19:\n",
    "        print('You are a teenager')\n",
    "    elif a>19:\n",
    "        print('You are not a teenager anymore')\n",
    "    else:\n",
    "        print('You are yet to be a teenager')\n",
    "else:\n",
    "    print('Invalid input!')"
   ]
  },
  {
   "cell_type": "code",
   "execution_count": 38,
   "id": "e42dfabf",
   "metadata": {},
   "outputs": [
    {
     "name": "stdout",
     "output_type": "stream",
     "text": [
      "Enter a angle : 120\n",
      "120 ° is an obtuse angle\n"
     ]
    }
   ],
   "source": [
    "a=int(input('Enter a angle : '))\n",
    "if a!=90 and a>=0 and a<=180:   \n",
    "    if a<90:\n",
    "        print(a,'° is an acute angle')\n",
    "    else:\n",
    "        print(a,'° is an obtuse angle')\n",
    "elif a<0 or a>180:\n",
    "    print('Invalid input! angle should be between 0° and 180°')\n",
    "else:\n",
    "    print(a,'° is a right angle')"
   ]
  },
  {
   "cell_type": "code",
   "execution_count": 8,
   "id": "a1066af4",
   "metadata": {},
   "outputs": [
    {
     "name": "stdout",
     "output_type": "stream",
     "text": [
      "Enter the values of a , b and c\n",
      "in equation which is in the form of  ax^2 + bx + c = 0\n",
      "a = 1\n",
      "b = -7\n",
      "c = 6\n",
      "Two roots : \n",
      "real root=6.0\n",
      "imaginary root=1.0\n"
     ]
    }
   ],
   "source": [
    "import math\n",
    "print('Enter the values of a , b and c\\nin equation which is in the form of  ax^2 + bx + c = 0')\n",
    "a=float(input('a = '))\n",
    "b=float(input('b = '))\n",
    "c=float(input('c = '))\n",
    "if a == 0:\n",
    "    print(\"Coefficient 'a' cannot be zero.\")\n",
    "else:\n",
    "    d = b**2 - 4*a*c\n",
    "    if d > 0:\n",
    "        root1 = (-b + math.sqrt(d)) / (2*a)\n",
    "        root2 = (-b - math.sqrt(d)) / (2*a)\n",
    "        print(f\"Two roots : \\nreal root={root1}\\nimaginary root={root2}\")\n",
    "    elif d == 0:\n",
    "        root1 = root2 = -b / (2*a)\n",
    "        print(\"Both roots are equal x = \", root1)\n",
    "    else:\n",
    "        real = -b / (2*a)\n",
    "        imaginary = math.sqrt(abs(d)) / (2*a)\n",
    "        print(f\"Two complex roots: \\nx={real + imaginary * 1j}\\nOR\\nx={real - imaginary * 1j}\" )"
   ]
  },
  {
   "cell_type": "code",
   "execution_count": 14,
   "id": "0b96036f",
   "metadata": {},
   "outputs": [
    {
     "name": "stdout",
     "output_type": "stream",
     "text": [
      "Enter your day number : 7\n",
      "It is :  Sunday\n"
     ]
    }
   ],
   "source": [
    "a=int(input('Enter your day number : '))\n",
    "b=[0,'Monday','Tuesday','Wednesday','Thursday','Friday','Saturday','Sunday']\n",
    "if a>0 and a<=8:\n",
    "    print('It is : ',b[a])\n",
    "else:\n",
    "    print('Invalid Input!\\n input must be from 1 till 7')"
   ]
  },
  {
   "cell_type": "code",
   "execution_count": 15,
   "id": "3e424dc9",
   "metadata": {},
   "outputs": [
    {
     "name": "stdout",
     "output_type": "stream",
     "text": [
      "Enter the year : 2000\n",
      "2000  is a leap year and  it is evenly divisible by 400\n"
     ]
    }
   ],
   "source": [
    "a=int(input('Enter the year : '))\n",
    "f=0\n",
    "f1=0\n",
    "if a%4==0 and a%400==0 or a%100!=0:\n",
    "    f=1\n",
    "if a%400==0:\n",
    "    f1=1\n",
    "if f==1 and f1==1:\n",
    "    print(a,' is a leap year and  it is evenly divisible by 400')\n",
    "elif f==1 and f1==0:\n",
    "    print(a,' is a leap year but  it is not evenly divisible by 400.')\n",
    "elif f==0 and f1==1:\n",
    "    print(a,' is evenly divisible by 400 but not a leap year')\n",
    "else:\n",
    "    print(a,' is neither a leap year nor it is evenly divisible by 400')"
   ]
  },
  {
   "cell_type": "code",
   "execution_count": 19,
   "id": "76706397",
   "metadata": {
    "scrolled": true
   },
   "outputs": [
    {
     "name": "stdout",
     "output_type": "stream",
     "text": [
      "Enter a number : 8\n",
      "8 is not prime\n"
     ]
    }
   ],
   "source": [
    "a=int(input('Enter a number : '))\n",
    "c=0\n",
    "for i in range(2,a):\n",
    "    if a==1:\n",
    "        c+=1\n",
    "        break\n",
    "    elif a%i==0:\n",
    "        c+=1\n",
    "if c==0:\n",
    "    print(f\"{a} is prime\")\n",
    "else:\n",
    "    print(f'{a} is not prime')"
   ]
  },
  {
   "cell_type": "code",
   "execution_count": 1,
   "id": "f6115605",
   "metadata": {},
   "outputs": [
    {
     "name": "stdout",
     "output_type": "stream",
     "text": [
      "Enter your marks : 93\n",
      "Your grade is ->  A+\n"
     ]
    }
   ],
   "source": [
    "a=int(input('Enter your marks : '))\n",
    "n='\\0'\n",
    "if a>=90 and a<=100:\n",
    "    n='A+'\n",
    "elif a>=80 and a<90:\n",
    "    n='A'\n",
    "elif a>=70 and a<80:\n",
    "    n='B'\n",
    "elif a>=60 and a<70:\n",
    "    n='C'\n",
    "elif a>=31 and a<60:\n",
    "    n='D'\n",
    "elif a<=30 and a>0:\n",
    "    n='F'\n",
    "else:\n",
    "    print('Invalid input! \\nmarks cannot be greater than 100 or less than 0')\n",
    "if n!='\\0':\n",
    "    print('Your grade is -> ',n)"
   ]
  },
  {
   "cell_type": "code",
   "execution_count": 4,
   "id": "59be96b6",
   "metadata": {},
   "outputs": [
    {
     "name": "stdout",
     "output_type": "stream",
     "text": [
      "Enter the first angle : 30\n",
      "Enter the second angle : 30\n",
      "Enter the third angle : 120\n",
      "Isosceles triangle\n"
     ]
    }
   ],
   "source": [
    "a=int(input('Enter the first angle : '))\n",
    "b=int(input('Enter the second angle : '))\n",
    "c=int(input('Enter the third angle : '))\n",
    "if a+b+c==180:\n",
    "    if a==60 and b==60 and c==60:\n",
    "        print('Equilateral triangle')\n",
    "    elif a==b or b==c or c==a:\n",
    "        print('Isosceles triangle')\n",
    "    else:\n",
    "        print('Scalene triangle')\n",
    "else:\n",
    "    print('Inavlid input !')"
   ]
  },
  {
   "cell_type": "code",
   "execution_count": 14,
   "id": "190eb25a",
   "metadata": {},
   "outputs": [
    {
     "name": "stdout",
     "output_type": "stream",
     "text": [
      "Enter your BMI :28.3\n",
      "Caution : Only applicable for individuals of age 20 and above\n",
      "Your BMI indicates :  Overweight\n"
     ]
    }
   ],
   "source": [
    "w=float(input('Enter your BMI :'))\n",
    "print('Caution : Only applicable for individuals of age 20 and above')\n",
    "n='\\0'\n",
    "if w>0 and w<18.5:\n",
    "    n='Underweight'\n",
    "elif w>=18.5 and w<=24.9:\n",
    "    n='Normal weight'\n",
    "elif w>=25 and w<=29.9:\n",
    "    n='Overweight'\n",
    "elif w>=30 and w<=35:\n",
    "    n='Obese'\n",
    "elif w>35:\n",
    "    n='Morbid obesity'\n",
    "else:\n",
    "   print('Invalid input!')\n",
    "if n!='\\0':\n",
    "    print('Your BMI indicates : ',n)"
   ]
  },
  {
   "cell_type": "code",
   "execution_count": 24,
   "id": "ce9fa932",
   "metadata": {},
   "outputs": [
    {
     "name": "stdout",
     "output_type": "stream",
     "text": [
      "Enter a number : 8\n",
      "8  is posetive\n"
     ]
    }
   ],
   "source": [
    "a=int(input('Enter a number : '))\n",
    "if a!=0:\n",
    "    if a>0:\n",
    "        print(a,' is posetive')\n",
    "    elif a<0:\n",
    "        print(a,' is negative')\n",
    "else:\n",
    "    print(a,' is zero')"
   ]
  },
  {
   "cell_type": "code",
   "execution_count": 37,
   "id": "70d8ddfa",
   "metadata": {},
   "outputs": [
    {
     "name": "stdout",
     "output_type": "stream",
     "text": [
      "Enter a character : `\n",
      "`  is a special character\n"
     ]
    }
   ],
   "source": [
    "a=input('Enter a character : ')\n",
    "n='\\0'\n",
    "if len(a)==1:\n",
    "    b=ord(a)\n",
    "    if b>=65 and b<=90:\n",
    "        n='uppercase'\n",
    "    elif b>=97 and b<=122:\n",
    "        n='lowercase'\n",
    "    elif b>=48 and b<=57:\n",
    "        print(a,' is a number')\n",
    "    else:\n",
    "        print(a,' is a special character')\n",
    "else:\n",
    "    print('Invalid input!\\nEnter a single character which is avaiable on keyboard only')\n",
    "if n!='\\0':\n",
    "    print(a,' is in ',n)"
   ]
  },
  {
   "cell_type": "code",
   "execution_count": 43,
   "id": "76e655ac",
   "metadata": {},
   "outputs": [
    {
     "name": "stdout",
     "output_type": "stream",
     "text": [
      "Enter your total amount35000\n",
      "You got 30% discount\n",
      " you have to pay Rs 24500.0\n",
      "Thank you for your patreonage\n"
     ]
    }
   ],
   "source": [
    "p=float(input('Enter your total amount'))\n",
    "d=0.0\n",
    "if p>0 and p<2000:\n",
    "    print('Sorry we can\\'t avail you a discount \\nminimum amount for availing discount is Rs 2000')\n",
    "elif p>=2000 and p<=9999:\n",
    "    d=p-(p/10)\n",
    "    print('You got 10% discount\\n you have to pay Rs',d)\n",
    "elif p>=10000 and p<=19999:\n",
    "    d=p-((p*15)/100)\n",
    "    print('You got 15% discount\\n you have to pay Rs',d)\n",
    "elif p>=20000 and p<=29999:\n",
    "    d=p-((p*20)/100)\n",
    "    print('You got 20% discount\\n you have to pay Rs',d)\n",
    "elif p>30000:\n",
    "    d=p-((p*30)/100)\n",
    "    print('You got 30% discount\\n you have to pay Rs',d)\n",
    "else:\n",
    "    print('Invalid input!')\n",
    "if p>0:\n",
    "    print('Thank you for your patreonage')"
   ]
  },
  {
   "cell_type": "code",
   "execution_count": 3,
   "id": "8ae3b65e",
   "metadata": {},
   "outputs": [
    {
     "name": "stdout",
     "output_type": "stream",
     "text": [
      "Enter the amount of slabs consumed(in units)700\n",
      "Your electricity bill : Rs  5595.5\n"
     ]
    }
   ],
   "source": [
    "u=int(input('Enter the amount of slabs consumed(in units)'))\n",
    "u1=u\n",
    "amt=0.0\n",
    "if u>=358:#300\n",
    "    a=125.00\n",
    "    b=189.00\n",
    "    c=256.00\n",
    "    d=358.00\n",
    "    e=366.50\n",
    "    f=733.00\n",
    "    g=(u1-25-35-40-50-50-100)*8.92\n",
    "elif u>=257 and u<=357:#100\n",
    "    a=125.00\n",
    "    b=189.00\n",
    "    c=256.00\n",
    "    d=358.00\n",
    "    e=366.50\n",
    "    f=(u1-25-35-40-50-50)*7.33\n",
    "elif u>=205 and u<=256:#50\n",
    "    a=125.00\n",
    "    b=189.00\n",
    "    c=256.00\n",
    "    d=358.00\n",
    "    e=(u1-25-35-40-50)*7.33\n",
    "elif u>=104 and u<=154:#50\n",
    "    a=125.00\n",
    "    b=189.00\n",
    "    c=256.00\n",
    "    d=(u1-25-35-40)*7.16\n",
    "elif u>=62 and u<=103:#40\n",
    "    a=125.00\n",
    "    b=189.00\n",
    "    c=(u1-25-35)*6.41\n",
    "elif u>=26 and u<=61:#35\n",
    "    a=125.00\n",
    "    b=(u1-25)*5.40\n",
    "elif u>0 and u<=25:#25\n",
    "    a=u1*4.89\n",
    "else:\n",
    "    print('Invalid input!')\n",
    "if u>0:\n",
    "    amt=a+b+c+d+e+f+g\n",
    "    print('Your electricity bill : Rs ',amt)"
   ]
  },
  {
   "cell_type": "code",
   "execution_count": 18,
   "id": "04e1db06",
   "metadata": {},
   "outputs": [
    {
     "name": "stdout",
     "output_type": "stream",
     "text": [
      "Given the quadrilateral is in form : a \t b\n",
      "\n",
      "\t\t\t\t     d   c\n",
      "For angle\n",
      "Enter the first angle : a=180\n",
      "Enter the second angle : b=60\n",
      "Enter the third angle : c=60\n",
      "Enter the third angle : d=60\n",
      "\n",
      "For side\n",
      "Enter the first angle : ab=20\n",
      "Enter the second angle : bc=30\n",
      "Enter the third angle : cd=40\n",
      "Enter the third angle : da=60\n",
      "\n",
      "It is a scelene quadrilateral and it is concave\n"
     ]
    }
   ],
   "source": [
    "print('Given the quadrilateral is in form : a \\t b\\n\\n\\t\\t\\t\\t     d   c')\n",
    "a=int(input('For angle\\nEnter the first angle : a='))\n",
    "b=int(input('Enter the second angle : b='))\n",
    "c=int(input('Enter the third angle : c='))\n",
    "d=int(input('Enter the third angle : d='))\n",
    "ab=int(input('\\nFor side\\nEnter the first angle : ab='))\n",
    "bc=int(input('Enter the second angle : bc='))\n",
    "cd=int(input('Enter the third angle : cd='))\n",
    "da=int(input('Enter the third angle : da='))\n",
    "if a+b+c+d==360:\n",
    "    print(\"\\nIt is a \",end=\"\")\n",
    "    \n",
    "    if a==b and b==c and c==d:\n",
    "        if ab==bc==cd==da:\n",
    "            print('square')\n",
    "        else:\n",
    "            print('rectangle')\n",
    "            \n",
    "    elif a==c and b==d:\n",
    "        if ab==bc==cd==da:\n",
    "            print('rhombus')\n",
    "        elif ab==cd and da==bc:\n",
    "            print('parallelogram')\n",
    "        else:\n",
    "            print('Invalid input!')\n",
    "            \n",
    "    elif (a+d==180 and b+c==180) or (a+b==180 and d+c==180):\n",
    "        if (a==90 and b==90) or (b==90 and c==90) or (c==90 and d==90) or (d==90 and a==90):\n",
    "            print('right angled trapizoid')\n",
    "        elif (a==b and d==c) or (b==c and a==b):\n",
    "            print('isoscelese trapizoid')\n",
    "        else:\n",
    "            print('trapezium')\n",
    "            \n",
    "    elif (a==c and ab==bc and da==cd) or (b==d and ab==da and bc==cd):\n",
    "        print('kite')\n",
    "        \n",
    "    else:\n",
    "        print(\"scelene quadrilateral\",end=\" \")\n",
    "        if a<180 and b<180 and c<180 and d<180:\n",
    "            print('and it is convex')\n",
    "        else:\n",
    "            print('and it is concave')\n",
    "else:\n",
    "    print('Invalid input! \\nangles should sum up to 360° to form a quadrilateral')"
   ]
  },
  {
   "cell_type": "code",
   "execution_count": 24,
   "id": "fc8fe746",
   "metadata": {},
   "outputs": [
    {
     "name": "stdout",
     "output_type": "stream",
     "text": [
      "Enter your month name : January\n",
      "It is  Winter now, enjoy a warm coffee.\n"
     ]
    }
   ],
   "source": [
    "m=input('Enter your month name : ')\n",
    "m=m.lower()\n",
    "s='/0'\n",
    "if m in [\"december\", \"january\", \"february\"]:\n",
    "    s = \"Winter now, enjoy a warm coffee.\"\n",
    "elif m in [\"march\", \"april\", \"may\"]:\n",
    "    s = \"Spring now, great time for picnic!\"\n",
    "elif m in [\"june\", \"july\", \"august\"]:\n",
    "    s = \"Summer now, dont forget your icecream!\"\n",
    "elif month in [\"september\", \"october\", \"november\"]:\n",
    "    s = \"Autumn (Fall) now, happy festivities!\"\n",
    "else:\n",
    "    print(\"Invalid input!\") \n",
    "if s!='/0':\n",
    "    print('It is ',s,)"
   ]
  },
  {
   "cell_type": "code",
   "execution_count": 37,
   "id": "ba090a46",
   "metadata": {},
   "outputs": [
    {
     "name": "stdout",
     "output_type": "stream",
     "text": [
      "Enter the year : 2000\n",
      "Enter your month name : JANuary\n",
      "2000 is a leap year\n",
      "January  has 31 days\n"
     ]
    }
   ],
   "source": [
    "a=int(input('Enter the year : '))\n",
    "m1=input('Enter your month name : ')\n",
    "m=m1.lower()\n",
    "s=0\n",
    "if a%4==0 and a%400==0 or a%100!=0:\n",
    "    print(a,'is a leap year')\n",
    "else:\n",
    "    print(a,'is not a leap year')\n",
    "if m in [\"january\",\"march\",\"may\",\"july\",\"august\",\"october\",\"december\"]:\n",
    "    s= 31\n",
    "elif m in [\"april\",\"june\",\"september\",\"november\"]:\n",
    "    s=30\n",
    "elif m==\"february\":\n",
    "    s=28\n",
    "else:\n",
    "    print('Invalid input! for month name')\n",
    "if s!=0:\n",
    "    m=m.capitalize()\n",
    "    print(m,\" has\",s,\"days\")"
   ]
  }
 ],
 "metadata": {
  "kernelspec": {
   "display_name": "Python 3 (ipykernel)",
   "language": "python",
   "name": "python3"
  },
  "language_info": {
   "codemirror_mode": {
    "name": "ipython",
    "version": 3
   },
   "file_extension": ".py",
   "mimetype": "text/x-python",
   "name": "python",
   "nbconvert_exporter": "python",
   "pygments_lexer": "ipython3",
   "version": "3.11.4"
  }
 },
 "nbformat": 4,
 "nbformat_minor": 5
}
